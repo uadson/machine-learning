{
 "cells": [
  {
   "cell_type": "markdown",
   "id": "ad576166-8165-49ad-bc05-df5233f4c609",
   "metadata": {},
   "source": [
    "## Imports"
   ]
  },
  {
   "cell_type": "code",
   "execution_count": 1,
   "id": "3e67aed6-b5a9-42d0-9a24-24e8bb8d4c5f",
   "metadata": {},
   "outputs": [],
   "source": [
    "import Orange\n",
    "\n",
    "from collections import Counter"
   ]
  },
  {
   "cell_type": "markdown",
   "id": "92e33565-53f4-413c-8ded-4e8754ac64af",
   "metadata": {},
   "source": [
    "## Loading"
   ]
  },
  {
   "cell_type": "code",
   "execution_count": 2,
   "id": "60dfef3d-2b41-4888-8eae-80d8d8fd1cdb",
   "metadata": {},
   "outputs": [],
   "source": [
    "dataset = '/home/uadson/repos/machine-learn/data/database/census_regras.csv'"
   ]
  },
  {
   "cell_type": "markdown",
   "id": "5eba55e6-d924-4a22-965c-d5c61605d6fb",
   "metadata": {},
   "source": [
    "## Preprocessing"
   ]
  },
  {
   "cell_type": "code",
   "execution_count": 3,
   "id": "67355c62-fbf1-4b2e-a185-429a9b1b6070",
   "metadata": {},
   "outputs": [],
   "source": [
    "base_census = Orange.data.Table(dataset)"
   ]
  },
  {
   "cell_type": "code",
   "execution_count": 5,
   "id": "5f7e26e7-55ff-4aa2-805b-7f6537c4b566",
   "metadata": {},
   "outputs": [
    {
     "data": {
      "text/plain": [
       "[age, workclass, final-weight, education, education-num, marital-status, occupation, relationship, race, sex, capital-gain, capital-loos, hour-per-week, native-country | income]"
      ]
     },
     "execution_count": 5,
     "metadata": {},
     "output_type": "execute_result"
    }
   ],
   "source": [
    "base_census.domain"
   ]
  },
  {
   "cell_type": "code",
   "execution_count": 6,
   "id": "15d5a5e2-d10e-4676-bcba-3442fb5fa22d",
   "metadata": {},
   "outputs": [],
   "source": [
    "majority = Orange.classification.MajorityLearner()"
   ]
  },
  {
   "cell_type": "markdown",
   "id": "5210d076-1352-452b-b150-b6af38cd90a2",
   "metadata": {},
   "source": [
    "## Predictions"
   ]
  },
  {
   "cell_type": "code",
   "execution_count": 7,
   "id": "b5f9d305-2428-46b4-ab7b-c4e280ea0715",
   "metadata": {},
   "outputs": [],
   "source": [
    "predictions = Orange.evaluation.testing.TestOnTestData(base_census, base_census, [majority])"
   ]
  },
  {
   "cell_type": "markdown",
   "id": "1e8cc631-f2e4-49cb-a16c-ec0532fe69e5",
   "metadata": {},
   "source": [
    "## Evaluation"
   ]
  },
  {
   "cell_type": "code",
   "execution_count": 8,
   "id": "286f72db-41d2-4cac-bb7a-d10ff79b01df",
   "metadata": {},
   "outputs": [
    {
     "data": {
      "text/plain": [
       "array([0.75919044])"
      ]
     },
     "execution_count": 8,
     "metadata": {},
     "output_type": "execute_result"
    }
   ],
   "source": [
    "Orange.evaluation.CA(predictions)"
   ]
  },
  {
   "cell_type": "code",
   "execution_count": 10,
   "id": "0908e0f4-0d2b-4697-94cc-1ba7f171d771",
   "metadata": {},
   "outputs": [
    {
     "data": {
      "text/plain": [
       "Counter({'<=50K': 24720, '>50K': 7841})"
      ]
     },
     "execution_count": 10,
     "metadata": {},
     "output_type": "execute_result"
    }
   ],
   "source": [
    "Counter(str(register.get_class()) for register in base_census)"
   ]
  },
  {
   "cell_type": "code",
   "execution_count": null,
   "id": "ba7fbbbc-8a6a-47bd-8332-92ad350915b2",
   "metadata": {},
   "outputs": [],
   "source": []
  }
 ],
 "metadata": {
  "kernelspec": {
   "display_name": "Python 3 (ipykernel)",
   "language": "python",
   "name": "python3"
  },
  "language_info": {
   "codemirror_mode": {
    "name": "ipython",
    "version": 3
   },
   "file_extension": ".py",
   "mimetype": "text/x-python",
   "name": "python",
   "nbconvert_exporter": "python",
   "pygments_lexer": "ipython3",
   "version": "3.11.5"
  }
 },
 "nbformat": 4,
 "nbformat_minor": 5
}
