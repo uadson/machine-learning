{
 "cells": [
  {
   "cell_type": "markdown",
   "id": "4ae6e762-3c64-492b-b933-f97fb8089217",
   "metadata": {},
   "source": [
    "## Imports"
   ]
  },
  {
   "cell_type": "code",
   "execution_count": 16,
   "id": "f869d76f-cfd0-49d6-9e8e-868ef771cf43",
   "metadata": {},
   "outputs": [],
   "source": [
    "import Orange\n",
    "\n",
    "from collections import Counter"
   ]
  },
  {
   "cell_type": "markdown",
   "id": "497d3e12-eee9-4fae-b3ef-73ac416da027",
   "metadata": {},
   "source": [
    "## Loading data"
   ]
  },
  {
   "cell_type": "code",
   "execution_count": 7,
   "id": "33551e3f-e153-4bd3-a75f-b766100af417",
   "metadata": {},
   "outputs": [],
   "source": [
    "dataset = '/home/uadson/repos/machine-learn/data/database/credit_data_regras.csv'"
   ]
  },
  {
   "cell_type": "markdown",
   "id": "0a6ab694-98ef-433c-8032-a4c1f8ebf025",
   "metadata": {},
   "source": [
    "## Preprocessing"
   ]
  },
  {
   "cell_type": "code",
   "execution_count": 8,
   "id": "7698c5f8-4ba4-4ff5-bba5-4b5201acf4f3",
   "metadata": {},
   "outputs": [],
   "source": [
    "base_credit = Orange.data.Table(dataset)"
   ]
  },
  {
   "cell_type": "code",
   "execution_count": 9,
   "id": "05b595cd-ede4-4acd-9d8f-e341341e5f1c",
   "metadata": {},
   "outputs": [
    {
     "data": {
      "text/plain": [
       "[income, age, loan | default]"
      ]
     },
     "execution_count": 9,
     "metadata": {},
     "output_type": "execute_result"
    }
   ],
   "source": [
    "base_credit.domain"
   ]
  },
  {
   "cell_type": "code",
   "execution_count": 10,
   "id": "94281ec3-4a95-461a-a07c-521e4bafa685",
   "metadata": {},
   "outputs": [],
   "source": [
    "majority = Orange.classification.MajorityLearner()"
   ]
  },
  {
   "cell_type": "markdown",
   "id": "63d82b57-bb22-4730-8deb-8219a21c9fe5",
   "metadata": {},
   "source": [
    "## Training"
   ]
  },
  {
   "cell_type": "code",
   "execution_count": 11,
   "id": "c0679927-4c6e-49e8-875b-a86378567694",
   "metadata": {},
   "outputs": [],
   "source": [
    "predictions = Orange.evaluation.testing.TestOnTestData(base_credit, base_credit, [majority])"
   ]
  },
  {
   "cell_type": "markdown",
   "id": "a7e64d31-bd3d-4716-b11f-23bac08b93d8",
   "metadata": {},
   "source": [
    "## Evaluation"
   ]
  },
  {
   "cell_type": "code",
   "execution_count": 15,
   "id": "6a2c72e0-ae00-40cd-891b-603f40f0d5cb",
   "metadata": {},
   "outputs": [
    {
     "data": {
      "text/plain": [
       "array([0.8585])"
      ]
     },
     "execution_count": 15,
     "metadata": {},
     "output_type": "execute_result"
    }
   ],
   "source": [
    "Orange.evaluation.CA(predictions)"
   ]
  },
  {
   "cell_type": "code",
   "execution_count": 17,
   "id": "d0e916c7-b238-4fb4-962f-64a86e6a5782",
   "metadata": {},
   "outputs": [
    {
     "data": {
      "text/plain": [
       "Counter({'0': 1717, '1': 283})"
      ]
     },
     "execution_count": 17,
     "metadata": {},
     "output_type": "execute_result"
    }
   ],
   "source": [
    "Counter(str(register.get_class()) for register in base_credit)"
   ]
  },
  {
   "cell_type": "code",
   "execution_count": 37,
   "id": "d7103717-7637-4d81-8258-1d16d9d6ca05",
   "metadata": {},
   "outputs": [
    {
     "data": {
      "text/plain": [
       "0.8585"
      ]
     },
     "execution_count": 37,
     "metadata": {},
     "output_type": "execute_result"
    }
   ],
   "source": [
    "1717 / (1717 + 283) "
   ]
  },
  {
   "cell_type": "code",
   "execution_count": null,
   "id": "9eabc2ef-eef6-4889-b1d1-741f974ed955",
   "metadata": {},
   "outputs": [],
   "source": []
  }
 ],
 "metadata": {
  "kernelspec": {
   "display_name": "Python 3 (ipykernel)",
   "language": "python",
   "name": "python3"
  },
  "language_info": {
   "codemirror_mode": {
    "name": "ipython",
    "version": 3
   },
   "file_extension": ".py",
   "mimetype": "text/x-python",
   "name": "python",
   "nbconvert_exporter": "python",
   "pygments_lexer": "ipython3",
   "version": "3.11.5"
  }
 },
 "nbformat": 4,
 "nbformat_minor": 5
}
