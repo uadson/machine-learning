{
 "cells": [
  {
   "cell_type": "markdown",
   "id": "faa887d7-036f-4269-952e-8b937fdd4d55",
   "metadata": {},
   "source": [
    "### Imports"
   ]
  },
  {
   "cell_type": "code",
   "execution_count": 1,
   "id": "4d165f5b-dd64-4177-87f8-767f51522a91",
   "metadata": {},
   "outputs": [],
   "source": [
    "import Orange"
   ]
  },
  {
   "cell_type": "markdown",
   "id": "b8dfebf0-f153-447f-96cb-f0c4ab78da4b",
   "metadata": {},
   "source": [
    "### Loading Data"
   ]
  },
  {
   "cell_type": "code",
   "execution_count": 2,
   "id": "2f8c3fad-cd80-409a-a2a1-41f0eea2fc43",
   "metadata": {},
   "outputs": [],
   "source": [
    "dataset = '/home/uadson/repos/machine-learn/data/database/credit_data_regras.csv'"
   ]
  },
  {
   "cell_type": "markdown",
   "id": "976c8504-f441-4a53-8505-deebe1e27632",
   "metadata": {},
   "source": [
    "### Preprocessing"
   ]
  },
  {
   "cell_type": "code",
   "execution_count": 3,
   "id": "54102a6a-2859-4c6f-b468-20c949e45084",
   "metadata": {},
   "outputs": [],
   "source": [
    "credit_data_base = Orange.data.Table(dataset)"
   ]
  },
  {
   "cell_type": "code",
   "execution_count": 4,
   "id": "d2045b16-9559-4eaf-9d1d-a6a62e43ccff",
   "metadata": {},
   "outputs": [
    {
     "data": {
      "text/plain": [
       "[[66155.9, 59.017, 8106.53 | 0],\n",
       " [34415.2, 48.1172, 6564.75 | 0],\n",
       " [57317.2, 63.108, 8020.95 | 0],\n",
       " [42709.5, 45.752, 6103.64 | 0],\n",
       " [66952.7, 18.5843, 8770.1 | 1],\n",
       " ...\n",
       "]"
      ]
     },
     "execution_count": 4,
     "metadata": {},
     "output_type": "execute_result"
    }
   ],
   "source": [
    "credit_data_base"
   ]
  },
  {
   "cell_type": "code",
   "execution_count": 5,
   "id": "0b4f10ec-b62e-4bdc-92cc-952f8f22847a",
   "metadata": {},
   "outputs": [
    {
     "data": {
      "text/plain": [
       "[income, age, loan | default]"
      ]
     },
     "execution_count": 5,
     "metadata": {},
     "output_type": "execute_result"
    }
   ],
   "source": [
    "credit_data_base.domain"
   ]
  },
  {
   "cell_type": "code",
   "execution_count": 9,
   "id": "ee1193a2-1e12-4155-b3de-a4d1c00f0966",
   "metadata": {},
   "outputs": [],
   "source": [
    "# divisão da base em duas partes 25% para teste e 75% para treino\n",
    "bases = Orange.evaluation.testing.sample(credit_data_base, n = 0.25) "
   ]
  },
  {
   "cell_type": "code",
   "execution_count": 10,
   "id": "790fe365-6a38-49fd-bb6d-ea2da38542af",
   "metadata": {},
   "outputs": [
    {
     "data": {
      "text/plain": [
       "([[48463.2, 50.5264, 8120.26 | 0],\n",
       "  [28451.7, 41.6011, 1042.85 | 0],\n",
       "  [26325.5, 56.3503, 3336.13 | 0],\n",
       "  [66529.5, 59.4298, 6337.67 | 0],\n",
       "  [44897.5, 51.3581, 5732.4 | 0],\n",
       "  ...\n",
       " ],\n",
       " [[62988.8, 32.4746, 6924.9 | 0],\n",
       "  [66179.3, 48.1208, 3646.94 | 0],\n",
       "  [20595.9, 45.4752, 1330.07 | 0],\n",
       "  [23102.2, 35.7617, 1779.57 | 0],\n",
       "  [62545.7, 49.0404, 4362.91 | 0],\n",
       "  ...\n",
       " ])"
      ]
     },
     "execution_count": 10,
     "metadata": {},
     "output_type": "execute_result"
    }
   ],
   "source": [
    "bases"
   ]
  },
  {
   "cell_type": "code",
   "execution_count": 11,
   "id": "45d9b4c7-9d0f-4296-986c-7a5f934f51ec",
   "metadata": {},
   "outputs": [],
   "source": [
    "base_train = bases[1] # base de treinamento 75%\n",
    "base_test = bases[0] # base de teste 25%"
   ]
  },
  {
   "cell_type": "markdown",
   "id": "7a205b05-ab63-4137-a567-adc76045bab9",
   "metadata": {},
   "source": [
    "### Training"
   ]
  },
  {
   "cell_type": "code",
   "execution_count": 13,
   "id": "678b93a6-20f6-42fb-a742-ed90b4402926",
   "metadata": {},
   "outputs": [],
   "source": [
    "cn2 = Orange.classification.rules.CN2Learner()\n",
    "credit_rules = cn2(base_train)"
   ]
  },
  {
   "cell_type": "code",
   "execution_count": 15,
   "id": "7e1cfb33-70cb-4f4c-86ad-e89df58adc6e",
   "metadata": {},
   "outputs": [
    {
     "name": "stdout",
     "output_type": "stream",
     "text": [
      "IF age>=34.9015168333426 THEN default=0 \n",
      "IF age>=34.7514377613552 THEN default=1 \n",
      "IF loan<=2495.13299137587 AND income>=20145.9885970689 THEN default=0 \n",
      "IF loan>=7718.479795185201 AND loan>=9601.375482171099 THEN default=1 \n",
      "IF age<=18.055874488782102 AND income>=50501.7266888171 THEN default=0 \n",
      "IF loan>=7718.479795185201 AND age>=22.3484194725752 THEN default=1 \n",
      "IF income<=31702.3342987522 AND age>=34.7410444347188 THEN default=0 \n",
      "IF income<=31702.3342987522 AND loan>=3665.88089899456 THEN default=1 \n",
      "IF loan<=5473.98555060076 AND age>=34.669146894011604 THEN default=1 \n",
      "IF loan<=5502.73603087282 AND income>=40496.2558229454 THEN default=0 \n",
      "IF income>=58828.2921165228 AND age>=20.3008601283655 THEN default=0 \n",
      "IF income<=22089.8374845274 AND age>=21.3656869572587 THEN default=1 \n",
      "IF loan>=4367.26495019919 AND age>=33.0920195085928 THEN default=1 \n",
      "IF age>=33.0311115211807 THEN default=0 \n",
      "IF age>=32.516422502230895 THEN default=1 \n",
      "IF loan<=4625.19337762744 AND age>=25.546307830139998 THEN default=0 \n",
      "IF loan>=6342.56790924236 AND age>=20.2281011762097 THEN default=1 \n",
      "IF loan<=3105.4430213977303 AND age>=22.656479598488698 THEN default=1 \n",
      "IF loan<=3293.25087871026 AND age>=24.7831077934243 THEN default=1 \n",
      "IF loan<=3343.81635769923 AND income>=29775.1422203146 THEN default=0 \n",
      "IF loan>=7880.68580712225 THEN default=1 \n",
      "IF income>=50527.5841732509 AND income>=55858.5492358543 THEN default=0 \n",
      "IF income>=50527.5841732509 AND age>=21.495505332946802 THEN default=0 \n",
      "IF age>=32.4756210590713 THEN default=0 \n",
      "IF loan>=4625.19337762744 AND loan>=5968.4420381087 THEN default=1 \n",
      "IF age>=30.1578542543575 THEN default=1 \n",
      "IF income<=26218.4948474169 AND age>=21.054199264384803 THEN default=0 \n",
      "IF age>=29.3780835419893 THEN default=0 \n",
      "IF income>=50052.292929031 THEN default=0 \n",
      "IF age<=21.9063058434986 AND income>=37123.0796375312 THEN default=1 \n",
      "IF income<=32306.8084008992 AND age>=21.9063058434986 THEN default=0 \n",
      "IF age>=27.0216773641296 THEN default=1 \n",
      "IF income>=48430.3596126847 THEN default=0 \n",
      "IF age>=23.4877088945359 THEN default=1 \n",
      "IF income>=34722.9648311622 THEN default=0 \n",
      "IF income<=27514.427963178598 THEN default=1 \n",
      "IF TRUE THEN default=0 \n"
     ]
    }
   ],
   "source": [
    "for rules in credit_rules.rule_list:\n",
    "    print(rules)"
   ]
  },
  {
   "cell_type": "markdown",
   "id": "e71f928f-6bf2-4212-bd87-670d118da9f0",
   "metadata": {},
   "source": [
    "### Predictions"
   ]
  },
  {
   "cell_type": "code",
   "execution_count": 17,
   "id": "40d365a6-a524-4959-9597-dcebad566ffc",
   "metadata": {},
   "outputs": [],
   "source": [
    "predictions = Orange.evaluation.testing.TestOnTestData(base_train, base_test, [lambda testdata: credit_rules])"
   ]
  },
  {
   "cell_type": "code",
   "execution_count": 18,
   "id": "c58882d2-f528-4ef2-9a3c-3ab6994d2ab4",
   "metadata": {},
   "outputs": [
    {
     "data": {
      "text/plain": [
       "<Orange.evaluation.testing.Results at 0x70b12ccef490>"
      ]
     },
     "execution_count": 18,
     "metadata": {},
     "output_type": "execute_result"
    }
   ],
   "source": [
    "predictions"
   ]
  },
  {
   "cell_type": "markdown",
   "id": "7d935f52-03e5-4ecc-8999-f3ef82a5a13a",
   "metadata": {},
   "source": [
    "### Accurace"
   ]
  },
  {
   "cell_type": "code",
   "execution_count": 19,
   "id": "a8e5f0ea-2b25-4cde-8127-4853bd22f03c",
   "metadata": {},
   "outputs": [
    {
     "data": {
      "text/plain": [
       "array([0.98])"
      ]
     },
     "execution_count": 19,
     "metadata": {},
     "output_type": "execute_result"
    }
   ],
   "source": [
    "Orange.evaluation.CA(predictions)"
   ]
  },
  {
   "cell_type": "code",
   "execution_count": null,
   "id": "8bf16f40-e217-4f75-8c5c-f99f2b176157",
   "metadata": {},
   "outputs": [],
   "source": []
  }
 ],
 "metadata": {
  "kernelspec": {
   "display_name": "Python 3 (ipykernel)",
   "language": "python",
   "name": "python3"
  },
  "language_info": {
   "codemirror_mode": {
    "name": "ipython",
    "version": 3
   },
   "file_extension": ".py",
   "mimetype": "text/x-python",
   "name": "python",
   "nbconvert_exporter": "python",
   "pygments_lexer": "ipython3",
   "version": "3.11.5"
  }
 },
 "nbformat": 4,
 "nbformat_minor": 5
}
