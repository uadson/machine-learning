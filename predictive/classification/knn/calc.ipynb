{
 "cells": [
  {
   "cell_type": "markdown",
   "metadata": {},
   "source": [
    "# NORMALIZAÇÃO E PADRONIZAÇÃO ####\n",
    "\n",
    "**AS VARIÁVEIS DEVEM ESTAR NA MESMA ESCALA**"
   ]
  },
  {
   "cell_type": "markdown",
   "metadata": {},
   "source": [
    "## NORMALIZAÇÃO"
   ]
  },
  {
   "cell_type": "markdown",
   "metadata": {},
   "source": [
    "### Tabela original\n",
    "\n",
    "\n",
    "| idade | renda anual |\n",
    "|-------|-------------|\n",
    "|60     |30.000       |\n",
    "|35     |45.000       |\n",
    "|20     |29.500       |"
   ]
  },
  {
   "cell_type": "markdown",
   "metadata": {
    "vscode": {
     "languageId": "plaintext"
    }
   },
   "source": [
    "$$x = \\frac{\\text{x - mínimo(x)}}{\\text{máximo(x) - mínimo(x)}}$$\n"
   ]
  },
  {
   "cell_type": "markdown",
   "metadata": {},
   "source": [
    "#### Idade\n",
    "\n",
    "$$x = \\frac{\\text{60 - 20}}{\\text{60 - 20}} = 1,00$$\n",
    "\n",
    "$$x = \\frac{\\text{35 - 20}}{\\text{60 - 20}} = 0,37$$\n",
    "\n",
    "$$x = \\frac{\\text{20 - 20}}{\\text{60 - 20}} = 0,00$$"
   ]
  },
  {
   "cell_type": "markdown",
   "metadata": {},
   "source": [
    "#### Renda anual\n",
    "\n",
    "$$x = \\frac{\\text{30.000 - 29.500}}{\\text{45.000 - 29.500}} = 0,03$$\n",
    "\n",
    "$$x = \\frac{\\text{45.000 - 29.500}}{\\text{45.000 - 29.500}} = 1,00$$\n",
    "\n",
    "$$x = \\frac{\\text{29.500 - 29.500}}{\\text{45.000 - 29.500}} = 0,00$$"
   ]
  },
  {
   "cell_type": "markdown",
   "metadata": {},
   "source": [
    "### Tabela final\n",
    "\n",
    "\n",
    "| idade | renda anual |\n",
    "|-------|-------------|\n",
    "|1,00   |0,03         |\n",
    "|0,37   |1,00         |\n",
    "|0,00   |0,00         |"
   ]
  },
  {
   "cell_type": "markdown",
   "metadata": {},
   "source": [
    "1ª e 2ª linhas\n",
    "\n",
    "$$\\text{idade(1,00 - 0,37)} = 0,63$$\n",
    "$$\\text{renda anual(0,03 - 1,00)} = - 0,97$$\n",
    "--------------------------------------------\n",
    "$$\\text{(0,63)² + (- 0,97)²} = \\text{0,39 + 0,940} = 1,33$$\n",
    "------------------------------------------------------------\n",
    "$$\\sqrt{1,33} = 1,15$$"
   ]
  },
  {
   "cell_type": "markdown",
   "metadata": {},
   "source": [
    "1ª e 3ª linhas\n",
    "\n",
    "$$\\text{idade(1,00 - 0,00)} = 1,00$$\n",
    "$$\\text{renda anual(0,03 - 0,00)} = 0,03$$\n",
    "--------------------------------------------\n",
    "$$\\text{(1,00)² + (0,03)²} = \\text{1,00 + 0,0009} = 1,0009$$\n",
    "------------------------------------------------------------\n",
    "$$\\sqrt{1,0009} = 1,0004$$"
   ]
  },
  {
   "cell_type": "markdown",
   "metadata": {},
   "source": [
    "## Padronização\n",
    "\n",
    "\n",
    "### Tabela original\n",
    "\n",
    "\n",
    "| idade | renda anual |\n",
    "|-------|-------------|\n",
    "|60     |30.000       |\n",
    "|35     |45.000       |\n",
    "|20     |29.500       |"
   ]
  },
  {
   "cell_type": "markdown",
   "metadata": {},
   "source": [
    "#### Fórmula de cálculo\n",
    "\n",
    "$$x = \\frac{\\text{x - média(x)}}{\\text{desvio padrão(x)}}"
   ]
  },
  {
   "cell_type": "markdown",
   "metadata": {},
   "source": [
    "|Idade|\n",
    "|-----|\n",
    "\n",
    "média = 38,33\n",
    "\n",
    "desvio padrão = 20,20\n",
    "\n",
    "\n",
    "$$x = \\frac{\\text{60 - 38,33}}{\\text{20,20}} = 1,07$$\n",
    "$$x = \\frac{\\text{35 - 38,33}}{\\text{20,20}} = - 0,16$$\n",
    "$$x = \\frac{\\text{20 - 38,33}}{\\text{20,20}} = - 0,90$$\n",
    "\n",
    "\n"
   ]
  },
  {
   "cell_type": "markdown",
   "metadata": {},
   "source": [
    "|renda anual|\n",
    "|-----------|\n",
    "\n",
    "média = 34.833,33\n",
    "\n",
    "desvio padrão = 8.808,14\n",
    "\n",
    "$$x = \\frac{\\text{30.000 - 34.833,33}}{\\text{8.808,14}} = - 0,54$$\n",
    "$$x = \\frac{\\text{45.000 - 34.833,33}}{\\text{8.808,14}} = 1,15$$\n",
    "$$x = \\frac{\\text{29.500 - 34.833,33}}{\\text{8.808,14}} = - 0,60$$"
   ]
  },
  {
   "cell_type": "markdown",
   "metadata": {},
   "source": [
    "### Tabela final\n",
    "\n",
    "\n",
    "| idade   | renda anual |\n",
    "|---------|-------------|\n",
    "|1,07     |- 0,54       |\n",
    "|- 0,16   |1,15         |\n",
    "|- 0,90   |- 0,60       |"
   ]
  },
  {
   "cell_type": "markdown",
   "metadata": {},
   "source": [
    "1ª e 2ª linhas\n",
    "\n",
    "$$\\text{idade(1,07 - (- 0,16))} = 1,23$$\n",
    "$$\\text{renda anual((- 0,54) - 1,15)} = -1,69$$\n",
    "--------------------------------------------\n",
    "$$\\text{(1,23)² + (-1,69)²} = \\text{1,51 + 2,85} = 4,36$$\n",
    "------------------------------------------------------------\n",
    "$$\\sqrt{4,36} = 2,08$$"
   ]
  },
  {
   "cell_type": "markdown",
   "metadata": {},
   "source": [
    "1ª e 3ª linhas\n",
    "\n",
    "$$\\text{idade(1,07 - (-0,90))} = 1,97$$\n",
    "$$\\text{renda anual((-0,54) - (-0,60))} = 0,06$$\n",
    "--------------------------------------------\n",
    "$$\\text{(1,97)² + (0,06)²} = \\text{3,88 + 0,03} = 3,91$$\n",
    "------------------------------------------------------------\n",
    "$$\\sqrt{3,91} = 1,97$$"
   ]
  },
  {
   "cell_type": "markdown",
   "metadata": {},
   "source": [
    " - Algoritmo simples e poderoso\n",
    " - Indicado quando o relacionamento entre as características é complexo\n",
    " - Valor de k pequeno: dados com ruídos ou outliers podem prejudicar\n",
    " - Valor de k grande: tendência a classificar a classe com mais elementos (overfitting)\n",
    " - Valor default 3 ou 5 -> tendência a resultados melhores\n",
    " - Lento para fazer as previsões\n",
    " - Distâncias:\n",
    "   - Euclidiana (padrão)\n",
    "   - Coeficiente de Pearson\n",
    "   - Índice de Tanimoto\n",
    "   - City Block"
   ]
  },
  {
   "cell_type": "markdown",
   "metadata": {},
   "source": []
  }
 ],
 "metadata": {
  "language_info": {
   "name": "python"
  }
 },
 "nbformat": 4,
 "nbformat_minor": 2
}
