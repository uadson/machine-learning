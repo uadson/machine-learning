{
 "cells": [
  {
   "cell_type": "markdown",
   "id": "02be673d-5629-4856-977a-f93b65df45d0",
   "metadata": {},
   "source": [
    "## Results Algorithms Evaluations"
   ]
  },
  {
   "cell_type": "markdown",
   "id": "6f7cef9f-bdf8-419f-8737-d7bbc058150e",
   "metadata": {},
   "source": [
    "### Credit Base"
   ]
  },
  {
   "cell_type": "markdown",
   "id": "7a69381b-7a93-4a7f-8aa5-4c4ec1b3e9db",
   "metadata": {},
   "source": [
    "**Naive Bayes**   | **0.93%**\n",
    "\n",
    "**Decision Tree** | **0.98%**\n",
    "\n",
    "**Random Forest** | **0.98%**\n",
    "\n",
    "**OneR (Orange)** | **0.98%**"
   ]
  },
  {
   "cell_type": "markdown",
   "id": "b9cc7ef9-dcec-4c39-bcea-e9dca830a478",
   "metadata": {},
   "source": [
    "### Census Base"
   ]
  },
  {
   "cell_type": "markdown",
   "id": "a01797ec-fcd8-42e1-97f8-1de1b8bbfc32",
   "metadata": {},
   "source": [
    "**Naive Bayes**   | **0.47%**\n",
    "\n",
    "**Decision Tree** | **0.81%**\n",
    "\n",
    "**Random Forest** | **0.85%**"
   ]
  },
  {
   "cell_type": "code",
   "execution_count": null,
   "id": "3b1bdf39-785a-49f0-8d57-99074f4ff838",
   "metadata": {},
   "outputs": [],
   "source": []
  }
 ],
 "metadata": {
  "kernelspec": {
   "display_name": "Python 3 (ipykernel)",
   "language": "python",
   "name": "python3"
  },
  "language_info": {
   "codemirror_mode": {
    "name": "ipython",
    "version": 3
   },
   "file_extension": ".py",
   "mimetype": "text/x-python",
   "name": "python",
   "nbconvert_exporter": "python",
   "pygments_lexer": "ipython3",
   "version": "3.11.5"
  }
 },
 "nbformat": 4,
 "nbformat_minor": 5
}
